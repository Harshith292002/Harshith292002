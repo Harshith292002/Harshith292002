{
  "nbformat": 4,
  "nbformat_minor": 0,
  "metadata": {
    "colab": {
      "provenance": [],
      "include_colab_link": true
    },
    "kernelspec": {
      "name": "python3",
      "display_name": "Python 3"
    },
    "language_info": {
      "name": "python"
    }
  },
  "cells": [
    {
      "cell_type": "markdown",
      "metadata": {
        "id": "view-in-github",
        "colab_type": "text"
      },
      "source": [
        "<a href=\"https://colab.research.google.com/github/Harshith292002/Harshith292002/blob/main/HW1_MLSP.ipynb\" target=\"_parent\"><img src=\"https://colab.research.google.com/assets/colab-badge.svg\" alt=\"Open In Colab\"/></a>"
      ]
    },
    {
      "cell_type": "markdown",
      "source": [
        "# **Homework 1 Due extended to Tuesday September 20th 23h59**\n"
      ],
      "metadata": {
        "id": "06AqnZTuOQgl"
      }
    },
    {
      "cell_type": "markdown",
      "source": [
        "__________\n",
        "**Copy your Colab link here:**\n",
        "\n",
        "\n"
      ],
      "metadata": {
        "id": "pmzs-2ISdAOZ"
      }
    },
    {
      "cell_type": "markdown",
      "source": [
        "< YOUR LINK HERE >"
      ],
      "metadata": {
        "id": "5dEYX2OPDmN2"
      }
    },
    {
      "cell_type": "markdown",
      "source": [
        "__________"
      ],
      "metadata": {
        "id": "Y0m16smBFCY2"
      }
    },
    {
      "cell_type": "markdown",
      "source": [
        "# **Problem 0: Moving the lab to your folder, loading drives, imports etc.**\n",
        "\n",
        "Duplicate this notebook (as you won't have write permission to this) to your Google Drive.\n",
        "This can be done by clicking on *File Menu - Save a copy in Drive*"
      ],
      "metadata": {
        "id": "5X6v_biRvodF"
      }
    },
    {
      "cell_type": "markdown",
      "source": [
        "Mount our drives and load imports"
      ],
      "metadata": {
        "id": "U9NCGv3ku2hg"
      }
    },
    {
      "cell_type": "markdown",
      "source": [
        "Run to mount your google drives:"
      ],
      "metadata": {
        "id": "w1sNkFG_vCDw"
      }
    },
    {
      "cell_type": "code",
      "source": [
        "from google.colab import drive\n",
        "drive.mount('/content/drive')"
      ],
      "metadata": {
        "colab": {
          "base_uri": "https://localhost:8080/"
        },
        "id": "4xJPY5hUvaPe",
        "outputId": "7fdf8dc7-889b-4433-bd0f-870685eef603"
      },
      "execution_count": null,
      "outputs": [
        {
          "output_type": "stream",
          "name": "stdout",
          "text": [
            "Mounted at /content/drive\n"
          ]
        }
      ]
    },
    {
      "cell_type": "markdown",
      "source": [
        "Your drive would be accessed as '/content/drive/MyDrive' for Colab. We suggest putting your data and creating a 'results' folder somewhere in the drive. The 'results' folder could be used for storing the required outputs.   "
      ],
      "metadata": {
        "id": "4oIwcVqmw7R9"
      }
    },
    {
      "cell_type": "code",
      "source": [
        "# example goes like:\n",
        "DataPath  = '/content/drive/MyDrive/YOUR_PATH_HERE'\n",
        "ResultPath = '/content/drive/MyDrive/YOUR_PATH_HERE/results'"
      ],
      "metadata": {
        "id": "iFFiAi4iyG2f"
      },
      "execution_count": null,
      "outputs": []
    },
    {
      "cell_type": "markdown",
      "source": [
        "Then, load all the imports you plan to use later;\n",
        "just do not use those built-in functions which directly solve the problem."
      ],
      "metadata": {
        "id": "4iiTlOpxvv2P"
      }
    },
    {
      "cell_type": "code",
      "source": [
        "# Add your imports here\n",
        "import numpy as np\n",
        "import librosa"
      ],
      "metadata": {
        "id": "gjMTbuT2uUl9"
      },
      "execution_count": null,
      "outputs": []
    },
    {
      "cell_type": "markdown",
      "source": [
        "# **Problem 1:Linear Algebra**"
      ],
      "metadata": {
        "id": "ZvQ-DkSAObYH"
      }
    },
    {
      "cell_type": "markdown",
      "source": [
        "## ***1a. Rotational Matrices***\n",
        "\n",
        "### I) A rotation in 4-D (Whose coordinates we will call X, Y, Z and W) is characterized by three angles. We will characterize them as a rotation along the X − Y plane, a rotation along the Y − Z plane and rotation along the Z − W plane. Derive the rotation matrix R that transforms a vector $[x, y, z, w]^T$ to new vector $[\\hat{x}, \\hat{y}, \\hat{z}, \\hat{w}]^T$ by rotating it counterclockwize by angle $\\theta$ along the X - Y plane, an angle $\\delta$ along the Y - Z plane and an angle $\\phi$ along the Z - W plane."
      ],
      "metadata": {
        "id": "Q2cUSUYsbr9C"
      }
    },
    {
      "cell_type": "markdown",
      "source": [
        "**Answer:** < YOUR ANSWER HERE >"
      ],
      "metadata": {
        "id": "qz_D35HjdLPE"
      }
    },
    {
      "cell_type": "markdown",
      "source": [
        "__________\n",
        "**📌Note📌**\n",
        "You can write answer here by following LaTeX markdown, a short tutorial can be found [here]( https://colab.research.google.com/notebooks/markdown_guide.ipynb). Alternatively you can use Word document or LaTeX Overleaf.\n",
        "__________"
      ],
      "metadata": {
        "id": "K0ZzyNn7EamP"
      }
    },
    {
      "cell_type": "markdown",
      "source": [
        "### II) Confirm that $RR^T = I$ ."
      ],
      "metadata": {
        "id": "DMhng5IEdRfK"
      }
    },
    {
      "cell_type": "markdown",
      "source": [
        "**Answer:** < YOUR ANSWER HERE >"
      ],
      "metadata": {
        "id": "jry_kbztdRii"
      }
    },
    {
      "cell_type": "markdown",
      "source": [
        "## ***1b. Lengths of vectors***"
      ],
      "metadata": {
        "id": "hyc71VZxF0u5"
      }
    },
    {
      "cell_type": "markdown",
      "source": [
        "### I) The following matrix transforms 5-dimensionality vectors into 4dimensional ones:\n",
        "\n",
        "\\begin{equation}\n",
        "\\operatorname{A} =\\left[\\begin{array}{ccccc}\n",
        "1 & 1 & 2 & 3 & 4 \\\\\n",
        "2 & 3 & 4 & 5 & 7 \\\\\n",
        "2 & 1 & 5 & 6 & 11 \\\\\n",
        "4 & 7 & 9 & 8 & 15\n",
        "\\end{array}\\right]\n",
        "\\end{equation}\n",
        "\n",
        "1. A 5x1 vector $v$ of length 1 is transformed by $A$ as $u=Av$. What is the longest length that u can be?\n",
        "\n",
        "2. What is the shortest ***non-zero*** length of $u$?\n",
        "\n",
        "3. What is the rank of $A$? The null-space of $A$ is the space of all vectors $v$ such that $Av=0$.\n",
        "\n",
        "4. What is the dimensionality of the null-space of $A$?\n"
      ],
      "metadata": {
        "id": "KB4pcUQfdhkU"
      }
    },
    {
      "cell_type": "markdown",
      "source": [
        "**Answer:** < YOUR ANSWER HERE >"
      ],
      "metadata": {
        "id": "qtFutDlUijN0"
      }
    },
    {
      "cell_type": "markdown",
      "source": [
        "### II) Answer the above four questions for the following matrix. Here $B$ transform 4-D vectors to 5-D. Note that $B=A^T$\n",
        "\n",
        "\\begin{equation}\n",
        "\\operatorname{B} =\\left[\\begin{array}{cccc}\n",
        "1 & 2 & 2 & 4 \\\\\n",
        "1 & 3 & 1 & 7 \\\\\n",
        "2 & 4 & 5 & 9 \\\\\n",
        "3 & 5 & 6 & 8 \\\\\n",
        "4 & 7 & 11 & 15\n",
        "\\end{array}\\right]\n",
        "\\end{equation}\n",
        "\n"
      ],
      "metadata": {
        "id": "nkP8L48_dhoe"
      }
    },
    {
      "cell_type": "markdown",
      "source": [
        "**Answer:**  < YOUR ANSWER HERE >"
      ],
      "metadata": {
        "id": "CBnO9IAxij61"
      }
    },
    {
      "cell_type": "markdown",
      "source": [
        "### III) The “Restricted Isometry Property” (RIP) constant of a matrix characterizes the change in length of vectors transformed by submatrices of the matrix. For our matrix $A$, let $A_s$ be a matrix formed of any $s$ columns of $A$. If $A$ is $M×N$, $A_s$ will be $M×s$. We can form $A_s$ in $^{N}C_s$ ways from the $N$ columns of $A$ (we assume that the order of vectors in $A_s$ is immaterial). Let $w$ be an $s×1$ vector of length 1. Let $l_{max}$ be the longest vector that one can obtain by transforming $w$ by any $A_s$. Let $l _{min}$ be the shortest vector obtained by transforming $w$ by any $A_s$. The RIP-$s$ constant $\\delta_s$ of the matrix $A$ is defined as:\n",
        "\n",
        "\n",
        "\\begin{equation}\n",
        "\\delta_s = \\frac{l_{max}-l_{min}}{l_{max}+l_{min}}\n",
        "\\end{equation}\n",
        "\n",
        "\n",
        "1. What is $\\delta_2$ (i.e $\\delta_s$ for $s=2$) for the matrix $A$ given above? (*Hint: you must consider all $^{5}C_2$ possible for $A_s$*).\n",
        "\n",
        "2. What is $\\delta_3$?\n",
        "\n",
        "\n",
        "\n",
        "\n"
      ],
      "metadata": {
        "id": "eFTow1kedhrV"
      }
    },
    {
      "cell_type": "markdown",
      "source": [
        "**Answer:** < YOUR ANSWER HERE >"
      ],
      "metadata": {
        "id": "-GCYWhFiik-C"
      }
    },
    {
      "cell_type": "markdown",
      "source": [
        "# **Problem 2: Projections**"
      ],
      "metadata": {
        "id": "CZlnnMkmOgpn"
      }
    },
    {
      "cell_type": "markdown",
      "source": [
        "\n",
        "Please note that you need NOT write own code for STFT, please use `librosa` library ([STFT function ](https://librosa.org/doc/0.10.2/generated/librosa.stft.html#librosa.stft),  [Inverse STFT function ](https://librosa.org/doc/0.10.2/generated/librosa.istft.html#librosa.istft)).\n",
        "\n",
        "More instructions are in `notebook_instructions.pdf`."
      ],
      "metadata": {
        "id": "dKcdM1V-GPl6"
      }
    },
    {
      "cell_type": "code",
      "source": [
        "def load_data():\n",
        "    \"\"\"\n",
        "    This function loads the data for problem 2. The data includes music and notes.\n",
        "\n",
        "    Required Input Arguments:\n",
        "        None\n",
        "\n",
        "    Required Output Arguments:\n",
        "        smagNote: 1025 x 15 matrix containing the mean spectrum magnitudes of the notes.\n",
        "        A correct sequence of the notes is REQUIRED. (From left to right: \"1C\" ,\"1D\", \"1E\", \"1F\", \"1G\", \"1A\", \"1B\" ,\"2C\", \"2D\", \"2E\", \"2F\", \"2G\", \"2A\", \"2B\" ,\"3C\")\n",
        "        smagMusic: 1025 x K matrix containing the spectrum magnitueds of the music after STFT.\n",
        "        sphaseMusic: 1025 x K matrix containing the spectrum phases of the music after STFT.\n",
        "    \"\"\"\n",
        "\n",
        "    # Load Spectrum Magnitudes of Notes\n",
        "    # Fill your code here to return 'smagNote'\n",
        "\n",
        "    # Load Spectrum Magnitues and Phases of The Provided Music\n",
        "    # Fill your code here to return 'smagMusic' and 'sphaseMusic'\n",
        "\n",
        "    raise NotImplementedError\n",
        "\n",
        "    return smagNote, smagMusic, sphaseMusic"
      ],
      "metadata": {
        "id": "009maMFhTHLs"
      },
      "execution_count": null,
      "outputs": []
    },
    {
      "cell_type": "code",
      "source": [
        "def synthesize_music(sphaseMusic,smagMusicProj):\n",
        "    \"\"\"\n",
        "    This function synthesizes the music from the projections of the notes.\n",
        "\n",
        "    Required Input Arguments:\n",
        "        sphaseMusic: 1025 x K matrix containing the spectrum phases of the music after STFT.\n",
        "        smagMusicProj: 1025 x K matrix, reconstructed version of smagMusic using transMatT\n",
        "\n",
        "    Required Output Arguments:\n",
        "        synMusic: N x 1 music signal reconstructed using STFT.\n",
        "    \"\"\"\n",
        "\n",
        "    # Music synthesis\n",
        "    # Fill your code here to return 'synMusic'\n",
        "\n",
        "    # Pad or trim the reconstructed signal to match the original\n",
        "\n",
        "\n",
        "    raise NotImplementedError\n",
        "\n",
        "    return synMusic"
      ],
      "metadata": {
        "id": "BR1DEuPnZlxd"
      },
      "execution_count": null,
      "outputs": []
    },
    {
      "cell_type": "code",
      "source": [
        "\"\"\"Load Notes and Music\"\"\"\n",
        "\n",
        "# Use the 'load_data' function here"
      ],
      "metadata": {
        "id": "NGlKcFHqa2tY"
      },
      "execution_count": null,
      "outputs": []
    },
    {
      "cell_type": "markdown",
      "source": [
        "## 2a"
      ],
      "metadata": {
        "id": "iKqkwlJAH9Ry"
      }
    },
    {
      "cell_type": "code",
      "source": [
        "\"\"\"Solution for Problem 2a-I here\"\"\"\n",
        "\n",
        "# Your solution will give you one “score” W_i per note. Place all the 15 scores W_i (for the 15 notes) into a single matrix W.\n",
        "# Place the score for the i-th note in the i-th row of W.\n",
        "# W will be a 15xT matrix, where T is the number of frames in the music.\n",
        "# Store W in a file called \"problem2a.mat\" in \"results\" folder"
      ],
      "metadata": {
        "id": "ZVZtITsHbEua"
      },
      "execution_count": null,
      "outputs": []
    },
    {
      "cell_type": "code",
      "source": [
        "\"\"\"Solution to Problem 2a-II here: Synthesize Music\"\"\"\n",
        "\n",
        "# Use the 'synthesize_music' function here.\n",
        "# You may want to use 'wavfile.write' function `from scipy.io import wavefile` (https://docs.scipy.org/doc/scipy/reference/generated/scipy.io.wavfile.write.html)\n",
        "# to write the synthesized music as 'problem2a_synthesis.wav' to the 'results' folder."
      ],
      "metadata": {
        "id": "b7E3aBVObOxR"
      },
      "execution_count": null,
      "outputs": []
    },
    {
      "cell_type": "markdown",
      "source": [
        "## 2b"
      ],
      "metadata": {
        "id": "JY9Tim70IFez"
      }
    },
    {
      "cell_type": "code",
      "source": [
        "\"\"\"Solution for Problem 2b-I here\"\"\"\n",
        "\n",
        "# Your solution will give you single “score” matrix W. Store W in a file called \"problem2b.mat\" in the 'results' folder"
      ],
      "metadata": {
        "id": "GtmqITMzbZZ8"
      },
      "execution_count": null,
      "outputs": []
    },
    {
      "cell_type": "code",
      "source": [
        "\"\"\"Solution to Problem 2b-II here:  Synthesize Music\"\"\"\n",
        "\n",
        "# Use the 'synthesize_music' function here.\n",
        "# Write the synthesized music as 'problem2b_synthesis.wav' to the 'results' folder.\n",
        "\n"
      ],
      "metadata": {
        "id": "KThXUMXtbhbw"
      },
      "execution_count": null,
      "outputs": []
    },
    {
      "cell_type": "markdown",
      "source": [
        "# **Problem 3: optimization and non-negative decomposition**"
      ],
      "metadata": {
        "id": "9rvEcuStOgwI"
      }
    },
    {
      "cell_type": "markdown",
      "source": [
        "## 3a : Computing the derivative"
      ],
      "metadata": {
        "id": "kOFgaRG63tz1"
      }
    },
    {
      "cell_type": "markdown",
      "source": [
        "**Answer:** < YOUR ANSWER HERE >"
      ],
      "metadata": {
        "id": "NruH6AG9I58i"
      }
    },
    {
      "cell_type": "markdown",
      "source": [
        "## 3b: Non-negative Projection"
      ],
      "metadata": {
        "id": "7xFu3PJKJJUQ"
      }
    },
    {
      "cell_type": "markdown",
      "source": [
        "In this problem, we should first finish the function transcribe_music_gradient_descent:"
      ],
      "metadata": {
        "id": "J9CZUtBFsd3n"
      }
    },
    {
      "cell_type": "code",
      "execution_count": null,
      "metadata": {
        "id": "g3HIyZCJOMi-"
      },
      "outputs": [],
      "source": [
        "def  transcribe_music_gradient_descent(M, N, lr, num_iter, threshold):\n",
        "  \"\"\"\n",
        "  Argument Descriptions\n",
        "  Required Input Arguments:\n",
        "      M: (smagMusic) 1025 x K matrix containing the spectrum magnitueds of the music after STFT.\n",
        "      N: (smagNote) 1025 x 15 matrix containing the spectrum magnitudes of the notes.\n",
        "      lr: learning rate, i.e. eta as in the assignment instructions\n",
        "      num_iter: number of iterations\n",
        "      threshold: threshold\n",
        "\n",
        "  Required Output Arguments:\n",
        "      T: (transMat) 15 x K matrix containing the transcribe coefficients.\n",
        "      E: num_iter x 1 matrix, error (Frobenius norm) from each iteration\n",
        "      transMatT: 15 x K matrix, threholded version of T (transMat) using threshold\n",
        "      smagMusicProj: 1025 x K matrix, reconstructed version of smagMusic (M) using transMatT\n",
        "  \"\"\"\n",
        "\n",
        "  return T, E, transMatT, smagMusicProj"
      ]
    },
    {
      "cell_type": "code",
      "source": [
        "\"\"\" Load Notes and Music \"\"\"\n",
        "# You may reuse your 'load_data' function from prob 2\n"
      ],
      "metadata": {
        "id": "TwdVA7iIsvCS"
      },
      "execution_count": null,
      "outputs": []
    },
    {
      "cell_type": "code",
      "source": [
        "\"\"\" Solution to Problem 3-b here: \"\"\"\n",
        "\"\"\" Compute The Transcribe Matrix: non-negative projection with gradient descent \"\"\"\n",
        "# Use the 'transcribe_music_gradient_descent' function here\n",
        "\n",
        "\n",
        "\n",
        "# Store final W for each eta value in a file called \"problem3b_eta_xxx.mat\"\n",
        "# where xxx is the actual eta value. E.g. for eta = 0.01, xxx will be \"0.01\".\n",
        "\n",
        "\n",
        "\n",
        "# Print the plot of E vs. iterations for each eta in a file called\n",
        "# \"problem3b_eta_xxx_errorplot.png\", where xxx is the eta value.\n",
        "# Print the eta vs. E as a bar plot stored in \"problem3b_eta_vs_E.png\".\n"
      ],
      "metadata": {
        "id": "TEAu88K-tGFT"
      },
      "execution_count": null,
      "outputs": []
    },
    {
      "cell_type": "markdown",
      "source": [
        "## 3c : Recreating music"
      ],
      "metadata": {
        "id": "XZxsPfG_JYS7"
      }
    },
    {
      "cell_type": "code",
      "source": [
        "\"\"\" Solution to Problem 3-c here: Synthesize Music (no points here) \"\"\"\n",
        "# You may reuse the 'synthesize_music' function from prob 2.\n",
        "# write the synthesized music as 'polyushka_syn_3c.wav' to the 'results' folder.\n",
        "\n"
      ],
      "metadata": {
        "id": "3SZFuruVtVq1"
      },
      "execution_count": null,
      "outputs": []
    },
    {
      "cell_type": "markdown",
      "source": [
        "# **Problem 4: Regularization based on linear regression**"
      ],
      "metadata": {
        "id": "g4VQGzpRH-P0"
      }
    },
    {
      "cell_type": "markdown",
      "source": [
        "## 4a"
      ],
      "metadata": {
        "id": "LFEPo0ptQPrI"
      }
    },
    {
      "cell_type": "markdown",
      "source": [
        "< YOUR ANSWER HERE >"
      ],
      "metadata": {
        "id": "yU92Z9iVJxU8"
      }
    },
    {
      "cell_type": "markdown",
      "source": [
        "## 4b"
      ],
      "metadata": {
        "id": "JpbfObrHQP96"
      }
    },
    {
      "cell_type": "markdown",
      "source": [
        "< YOUR ANSWER HERE >"
      ],
      "metadata": {
        "id": "YU3Z3Lp6Jzjg"
      }
    },
    {
      "cell_type": "markdown",
      "source": [
        "## 4c"
      ],
      "metadata": {
        "id": "LZTJzGB8IGM9"
      }
    },
    {
      "cell_type": "markdown",
      "source": [
        "< YOUR ANSWER HERE >"
      ],
      "metadata": {
        "id": "ohNwvrBgJ1l5"
      }
    },
    {
      "cell_type": "markdown",
      "source": [
        "# **Submission**"
      ],
      "metadata": {
        "id": "2Npp2l5QJ3Vp"
      }
    },
    {
      "cell_type": "markdown",
      "source": [
        "**You are ready to submit in Canvas!**\n",
        "\n",
        "4 easy steps to submit your lab:\n",
        "\n",
        "1.   Go to \"File\" - Download \".ipynb\" and \".py\"\n",
        "2.   Click on \"Share\" option on top right - Click on \"copy link\" option. Make sure your permission is set to \"Anyone on the internet with this link can view\"\n",
        "3.   Upload both the \".ipynb\" and \".py\" file obtained from Step (1) with your 'results' folder to Canvas. If it is too big, zip it before uploading.\n",
        "4.   At the beginning of notebook cell (Colab), paste the link obtained from Step (3).\n",
        "\n",
        "That's it!\n",
        "\n",
        "In short, we want to have one link, one .ipynb, one .py and one 'HW1_yourJHID.zip' containing all the required outputs.\n",
        "\n",
        "Please suffix your colab file and the zip file with your _jhID, eg: HW1_myjhID12\n"
      ],
      "metadata": {
        "id": "a4beYyaeCvvP"
      }
    },
    {
      "cell_type": "code",
      "source": [],
      "metadata": {
        "id": "O3Fdf1xJHvlu"
      },
      "execution_count": null,
      "outputs": []
    }
  ]
}